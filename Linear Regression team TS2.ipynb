{
 "cells": [
  {
   "cell_type": "markdown",
   "metadata": {},
   "source": [
    "# Linear Regression Model that Accurately Predicts the Price of Apples"
   ]
  },
  {
   "cell_type": "markdown",
   "metadata": {},
   "source": [
    "## Team members:\n",
    "- Keletso Pule\n",
    "- Khomotso Maake\n",
    "- Jacques Stander\n",
    "- Harrison Hlongwane\n",
    "- Bhalisa Sodo"
   ]
  },
  {
   "cell_type": "markdown",
   "metadata": {},
   "source": [
    "## 1. Introduction"
   ]
  },
  {
   "cell_type": "markdown",
   "metadata": {},
   "source": [
    "### 1.1. Objective \n",
    "In this notebook we will design a regression model that will predict the cost of apples based on given parameters."
   ]
  },
  {
   "cell_type": "markdown",
   "metadata": {},
   "source": [
    "### 1.2. Parameters\n",
    "1. Month/Season\n",
    "2. Distance travelled\n",
    "3. Supplier cost\n",
    "4. Grade of apple\n",
    "5. Demand and Supply\n",
    "6. Container used?\n"
   ]
  },
  {
   "cell_type": "markdown",
   "metadata": {},
   "source": [
    "### 1.3. Outline"
   ]
  },
  {
   "cell_type": "markdown",
   "metadata": {},
   "source": [
    "## 2. Importing Data and Plotting"
   ]
  },
  {
   "cell_type": "markdown",
   "metadata": {},
   "source": [
    "#### 2.1. Import necessary packages\n",
    "#### 2.2. Import the data into a Pandas Dataframe\n",
    "#### 2.3. Show the data \n",
    "#### 2.4. Make an initial plot of the data\n",
    "\n"
   ]
  },
  {
   "cell_type": "markdown",
   "metadata": {},
   "source": [
    "## 3. Exploratory Data Analysis\n",
    "### 3.1. Explore the data shape and types\n",
    "### Look for null values\n",
    "### Is the data univariate or multivariate?\n",
    "### Determine kurtosis and skew\n",
    "### Consider the distribution of the data\n",
    "### Look for correlation of multivariate data \n",
    "## 4. Split the data between training data and testing data\n",
    "## Check for linearity, multicollinearity, independence, homoscedasticity, normality\n",
    "### Homoscedasticity\n",
    "Do the magnitude of the risiduals increase as the fitted data increases? This will result in a cone shape and that is called heteroscedasticity. We don’t want that.\n",
    "### Normality\n",
    "Draw a histogram of the normalized residuals and look for a bell curve around zero.\n",
    "Draw a QQ plot of the residuals\n",
    "## 5. Check for outliers in residuals\n",
    "### Plot Cook’s distance\n",
    "## 6. Build the Regression Model\n",
    "### Results if we follow method 1: Taking Estimates\n",
    "#### Show our calculations\n",
    "#### Plot our results\n",
    "#### Assess our results\n",
    "### Results if we follow method 2: Least Squared Method\n",
    "#### Show our calculations\n",
    "#### Plot our results\n",
    "#### Assess our results\n",
    "### Results if we build our model using sklearn:\n",
    "#### Show our calculations\n",
    "#### Plot our results\n",
    "#### Assess our results\n"
   ]
  },
  {
   "cell_type": "markdown",
   "metadata": {},
   "source": [
    "## 7. Conclusion"
   ]
  },
  {
   "cell_type": "markdown",
   "metadata": {},
   "source": [
    "### What we accomplished. \n",
    "### What we learnt.\n"
   ]
  }
 ],
 "metadata": {
  "kernelspec": {
   "display_name": "Python 3",
   "language": "python",
   "name": "python3"
  },
  "language_info": {
   "codemirror_mode": {
    "name": "ipython",
    "version": 3
   },
   "file_extension": ".py",
   "mimetype": "text/x-python",
   "name": "python",
   "nbconvert_exporter": "python",
   "pygments_lexer": "ipython3",
   "version": "3.8.3"
  }
 },
 "nbformat": 4,
 "nbformat_minor": 2
}
