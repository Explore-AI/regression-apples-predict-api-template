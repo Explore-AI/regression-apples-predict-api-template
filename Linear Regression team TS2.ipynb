{
 "cells": [
  {
   "cell_type": "markdown",
   "metadata": {},
   "source": [
    "# Linear Regression Model that Accurately Predicts the Price of Apples"
   ]
  },
  {
   "cell_type": "markdown",
   "metadata": {},
   "source": [
    "<img src=\"predict.jpeg\" height=400>"
   ]
  },
  {
   "cell_type": "markdown",
   "metadata": {},
   "source": [
    "# Table Of Contents\n",
    "### 1. [Introduction](#introduction)\n",
    "\n",
    "    1. Objective\n",
    "    2. Parameters\n",
    "    3. Outline\n",
    "    \n",
    "### 2. [Importing Data and Plotting](#import)\n",
    "\n",
    "    1. Import necessary packages\n",
    "    2. Import the data into a Pandas Dataframe\n",
    "    3. Show the data\n",
    "    4. Make ean initial plot of the data\n",
    "\n",
    "### 3. [Exploratory Data Analysis](#explore)\n",
    "### 4. [Split Data: Testing and training](#split)\n",
    "### 5. [Outliers](#outliers)\n",
    "### 6. [Regression Model](#regress)\n",
    "    1. Taking estimates\n",
    "    2. Least squares\n",
    "    3. sklearn\n",
    "### 7. [Conclusion](#conclude)"
   ]
  },
  {
   "cell_type": "markdown",
   "metadata": {},
   "source": [
    "## 1. Introduction <a name=\"introduction\"></a>"
   ]
  },
  {
   "cell_type": "markdown",
   "metadata": {},
   "source": [
    "### 1.1. Objective \n",
    "In this notebook we will design a regression model that will predict the cost of apples based on given parameters."
   ]
  },
  {
   "cell_type": "markdown",
   "metadata": {},
   "source": [
    "### 1.2. Parameters\n",
    "1. Month/Season\n",
    "2. Distance travelled\n",
    "3. Supplier cost\n",
    "4. Grade of apple\n",
    "5. Demand and Supply\n",
    "6. Container used?\n"
   ]
  },
  {
   "cell_type": "markdown",
   "metadata": {},
   "source": [
    "## 2. Importing Data and Plotting <a name=\"import\"></a>"
   ]
  },
  {
   "cell_type": "markdown",
   "metadata": {},
   "source": [
    "#### 2.1. Import necessary packages"
   ]
  },
  {
   "cell_type": "code",
   "execution_count": 89,
   "metadata": {},
   "outputs": [],
   "source": [
    "import pandas as pd\n",
    "import numpy as np\n",
    "from matplotlib import pyplot as plt\n",
    "import seaborn as sns\n",
    "import statsmodels as sm\n",
    "import sklearn as skl"
   ]
  },
  {
   "cell_type": "markdown",
   "metadata": {},
   "source": [
    "#### 2.2. Import the data into a Pandas Dataframe"
   ]
  },
  {
   "cell_type": "code",
   "execution_count": 90,
   "metadata": {},
   "outputs": [],
   "source": [
    "sample_submission = pd.DataFrame(pd.read_csv(\"sample_submission.csv\"))\n",
    "test_set = pd.DataFrame(pd.read_csv(\"df-test_set.csv\"))\n",
    "train_set = pd.DataFrame(pd.read_csv(\"df-train_set.csv\"))"
   ]
  },
  {
   "cell_type": "markdown",
   "metadata": {},
   "source": [
    "#### 2.3. Show the data "
   ]
  },
  {
   "source": [],
   "cell_type": "markdown",
   "metadata": {}
  },
  {
   "cell_type": "code",
   "execution_count": 91,
   "metadata": {},
   "outputs": [
    {
     "output_type": "execute_result",
     "data": {
      "text/plain": [
       "            Province Container Size_Grade  Weight_Kg             Commodities  \\\n",
       "0               CAPE     EC120         1L       12.0      APPLE GRANNY SMITH   \n",
       "1               CAPE     M4183         1L       18.3  APPLE GOLDEN DELICIOUS   \n",
       "2            GAUTENG     AT200         1L       20.0       AVOCADO PINKERTON   \n",
       "3          TRANSVAAL     BJ090         1L        9.0      TOMATOES-LONG LIFE   \n",
       "4  WESTERN FREESTATE     PP100         1R       10.0   POTATO SIFRA (WASHED)   \n",
       "\n",
       "         Date  Low_Price  High_Price  Sales_Total  Total_Qty_Sold  \\\n",
       "0  2020-03-10      108.0       112.0       3236.0              29   \n",
       "1  2020-09-09      150.0       170.0      51710.0             332   \n",
       "2  2020-05-05       70.0        80.0       4860.0              66   \n",
       "3  2020-01-20       60.0        60.0        600.0              10   \n",
       "4  2020-07-14       40.0        45.0      41530.0             927   \n",
       "\n",
       "   Total_Kg_Sold  Stock_On_Hand  avg_price_per_kg  \n",
       "0          348.0              0              9.30  \n",
       "1         6075.6            822              8.51  \n",
       "2         1320.0             50              3.68  \n",
       "3           90.0              0              6.67  \n",
       "4         9270.0            393              4.48  "
      ],
      "text/html": "<div>\n<style scoped>\n    .dataframe tbody tr th:only-of-type {\n        vertical-align: middle;\n    }\n\n    .dataframe tbody tr th {\n        vertical-align: top;\n    }\n\n    .dataframe thead th {\n        text-align: right;\n    }\n</style>\n<table border=\"1\" class=\"dataframe\">\n  <thead>\n    <tr style=\"text-align: right;\">\n      <th></th>\n      <th>Province</th>\n      <th>Container</th>\n      <th>Size_Grade</th>\n      <th>Weight_Kg</th>\n      <th>Commodities</th>\n      <th>Date</th>\n      <th>Low_Price</th>\n      <th>High_Price</th>\n      <th>Sales_Total</th>\n      <th>Total_Qty_Sold</th>\n      <th>Total_Kg_Sold</th>\n      <th>Stock_On_Hand</th>\n      <th>avg_price_per_kg</th>\n    </tr>\n  </thead>\n  <tbody>\n    <tr>\n      <th>0</th>\n      <td>CAPE</td>\n      <td>EC120</td>\n      <td>1L</td>\n      <td>12.0</td>\n      <td>APPLE GRANNY SMITH</td>\n      <td>2020-03-10</td>\n      <td>108.0</td>\n      <td>112.0</td>\n      <td>3236.0</td>\n      <td>29</td>\n      <td>348.0</td>\n      <td>0</td>\n      <td>9.30</td>\n    </tr>\n    <tr>\n      <th>1</th>\n      <td>CAPE</td>\n      <td>M4183</td>\n      <td>1L</td>\n      <td>18.3</td>\n      <td>APPLE GOLDEN DELICIOUS</td>\n      <td>2020-09-09</td>\n      <td>150.0</td>\n      <td>170.0</td>\n      <td>51710.0</td>\n      <td>332</td>\n      <td>6075.6</td>\n      <td>822</td>\n      <td>8.51</td>\n    </tr>\n    <tr>\n      <th>2</th>\n      <td>GAUTENG</td>\n      <td>AT200</td>\n      <td>1L</td>\n      <td>20.0</td>\n      <td>AVOCADO PINKERTON</td>\n      <td>2020-05-05</td>\n      <td>70.0</td>\n      <td>80.0</td>\n      <td>4860.0</td>\n      <td>66</td>\n      <td>1320.0</td>\n      <td>50</td>\n      <td>3.68</td>\n    </tr>\n    <tr>\n      <th>3</th>\n      <td>TRANSVAAL</td>\n      <td>BJ090</td>\n      <td>1L</td>\n      <td>9.0</td>\n      <td>TOMATOES-LONG LIFE</td>\n      <td>2020-01-20</td>\n      <td>60.0</td>\n      <td>60.0</td>\n      <td>600.0</td>\n      <td>10</td>\n      <td>90.0</td>\n      <td>0</td>\n      <td>6.67</td>\n    </tr>\n    <tr>\n      <th>4</th>\n      <td>WESTERN FREESTATE</td>\n      <td>PP100</td>\n      <td>1R</td>\n      <td>10.0</td>\n      <td>POTATO SIFRA (WASHED)</td>\n      <td>2020-07-14</td>\n      <td>40.0</td>\n      <td>45.0</td>\n      <td>41530.0</td>\n      <td>927</td>\n      <td>9270.0</td>\n      <td>393</td>\n      <td>4.48</td>\n    </tr>\n  </tbody>\n</table>\n</div>"
     },
     "metadata": {},
     "execution_count": 91
    }
   ],
   "source": [
    "#Viewing the first five rows of our train_set dataframe.\n",
    "train_set.head() "
   ]
  },
  {
   "cell_type": "code",
   "execution_count": 92,
   "metadata": {},
   "outputs": [
    {
     "output_type": "execute_result",
     "data": {
      "text/plain": [
       "(64376, 13)"
      ]
     },
     "metadata": {},
     "execution_count": 92
    }
   ],
   "source": [
    "#The dataframe has 64376 rows and 13 columns.\n",
    "train_set.shape"
   ]
  },
  {
   "cell_type": "code",
   "execution_count": 93,
   "metadata": {},
   "outputs": [
    {
     "output_type": "stream",
     "name": "stdout",
     "text": [
      "<class 'pandas.core.frame.DataFrame'>\nRangeIndex: 64376 entries, 0 to 64375\nData columns (total 13 columns):\n #   Column            Non-Null Count  Dtype  \n---  ------            --------------  -----  \n 0   Province          64376 non-null  object \n 1   Container         64376 non-null  object \n 2   Size_Grade        64376 non-null  object \n 3   Weight_Kg         64376 non-null  float64\n 4   Commodities       64376 non-null  object \n 5   Date              64376 non-null  object \n 6   Low_Price         64376 non-null  float64\n 7   High_Price        64376 non-null  float64\n 8   Sales_Total       64376 non-null  float64\n 9   Total_Qty_Sold    64376 non-null  int64  \n 10  Total_Kg_Sold     64376 non-null  float64\n 11  Stock_On_Hand     64376 non-null  int64  \n 12  avg_price_per_kg  64376 non-null  float64\ndtypes: float64(6), int64(2), object(5)\nmemory usage: 6.4+ MB\n"
     ]
    }
   ],
   "source": [
    "#The info method displays the nature of our data i.e datatypes and non-null count.\n",
    "train_set.info()"
   ]
  },
  {
   "source": [
    "The info summary above shows 64376 entries and it has the following data types: six float type data, two integer type data, five object type data. All columns showing zero null values."
   ],
   "cell_type": "markdown",
   "metadata": {}
  },
  {
   "cell_type": "code",
   "execution_count": 94,
   "metadata": {},
   "outputs": [
    {
     "output_type": "execute_result",
     "data": {
      "text/plain": [
       "          Weight_Kg     Low_Price    High_Price   Sales_Total  Total_Qty_Sold  \\\n",
       "count  64376.000000  64376.000000  64376.000000  6.437600e+04    64376.000000   \n",
       "mean      12.781592     75.651938     89.607858  1.939501e+04      446.104402   \n",
       "std       35.943052    159.508144    172.223177  4.442192e+04     1184.169758   \n",
       "min        0.120000      1.000000      1.000000 -5.770000e+04     -595.000000   \n",
       "25%        7.000000     30.000000     35.000000  1.154000e+03       20.000000   \n",
       "50%       10.000000     46.000000     55.000000  5.400000e+03      107.000000   \n",
       "75%       11.000000     80.000000    100.000000  1.877200e+04      390.000000   \n",
       "max      500.000000   4400.000000   4400.000000  1.134701e+06    39453.000000   \n",
       "\n",
       "       Total_Kg_Sold  Stock_On_Hand  avg_price_per_kg  \n",
       "count   64376.000000   64376.000000          64376.00  \n",
       "mean     3336.641295     477.646328               NaN  \n",
       "std      7682.295441    1453.892091               NaN  \n",
       "min     -5040.000000    -512.000000              -inf  \n",
       "25%       175.000000       0.000000              4.02  \n",
       "50%       940.000000      76.000000              6.00  \n",
       "75%      3250.000000     381.000000              8.67  \n",
       "max    192230.000000   93193.000000               inf  "
      ],
      "text/html": "<div>\n<style scoped>\n    .dataframe tbody tr th:only-of-type {\n        vertical-align: middle;\n    }\n\n    .dataframe tbody tr th {\n        vertical-align: top;\n    }\n\n    .dataframe thead th {\n        text-align: right;\n    }\n</style>\n<table border=\"1\" class=\"dataframe\">\n  <thead>\n    <tr style=\"text-align: right;\">\n      <th></th>\n      <th>Weight_Kg</th>\n      <th>Low_Price</th>\n      <th>High_Price</th>\n      <th>Sales_Total</th>\n      <th>Total_Qty_Sold</th>\n      <th>Total_Kg_Sold</th>\n      <th>Stock_On_Hand</th>\n      <th>avg_price_per_kg</th>\n    </tr>\n  </thead>\n  <tbody>\n    <tr>\n      <th>count</th>\n      <td>64376.000000</td>\n      <td>64376.000000</td>\n      <td>64376.000000</td>\n      <td>6.437600e+04</td>\n      <td>64376.000000</td>\n      <td>64376.000000</td>\n      <td>64376.000000</td>\n      <td>64376.00</td>\n    </tr>\n    <tr>\n      <th>mean</th>\n      <td>12.781592</td>\n      <td>75.651938</td>\n      <td>89.607858</td>\n      <td>1.939501e+04</td>\n      <td>446.104402</td>\n      <td>3336.641295</td>\n      <td>477.646328</td>\n      <td>NaN</td>\n    </tr>\n    <tr>\n      <th>std</th>\n      <td>35.943052</td>\n      <td>159.508144</td>\n      <td>172.223177</td>\n      <td>4.442192e+04</td>\n      <td>1184.169758</td>\n      <td>7682.295441</td>\n      <td>1453.892091</td>\n      <td>NaN</td>\n    </tr>\n    <tr>\n      <th>min</th>\n      <td>0.120000</td>\n      <td>1.000000</td>\n      <td>1.000000</td>\n      <td>-5.770000e+04</td>\n      <td>-595.000000</td>\n      <td>-5040.000000</td>\n      <td>-512.000000</td>\n      <td>-inf</td>\n    </tr>\n    <tr>\n      <th>25%</th>\n      <td>7.000000</td>\n      <td>30.000000</td>\n      <td>35.000000</td>\n      <td>1.154000e+03</td>\n      <td>20.000000</td>\n      <td>175.000000</td>\n      <td>0.000000</td>\n      <td>4.02</td>\n    </tr>\n    <tr>\n      <th>50%</th>\n      <td>10.000000</td>\n      <td>46.000000</td>\n      <td>55.000000</td>\n      <td>5.400000e+03</td>\n      <td>107.000000</td>\n      <td>940.000000</td>\n      <td>76.000000</td>\n      <td>6.00</td>\n    </tr>\n    <tr>\n      <th>75%</th>\n      <td>11.000000</td>\n      <td>80.000000</td>\n      <td>100.000000</td>\n      <td>1.877200e+04</td>\n      <td>390.000000</td>\n      <td>3250.000000</td>\n      <td>381.000000</td>\n      <td>8.67</td>\n    </tr>\n    <tr>\n      <th>max</th>\n      <td>500.000000</td>\n      <td>4400.000000</td>\n      <td>4400.000000</td>\n      <td>1.134701e+06</td>\n      <td>39453.000000</td>\n      <td>192230.000000</td>\n      <td>93193.000000</td>\n      <td>inf</td>\n    </tr>\n  </tbody>\n</table>\n</div>"
     },
     "metadata": {},
     "execution_count": 94
    }
   ],
   "source": [
    "#Summary statistic of each column in the dataframe.\n",
    "train_set.describe()"
   ]
  },
  {
   "cell_type": "code",
   "execution_count": 95,
   "metadata": {},
   "outputs": [
    {
     "output_type": "execute_result",
     "data": {
      "text/plain": [
       "   Index              Province Container Size_Grade  Weight_Kg  \\\n",
       "0      1  W.CAPE-BERGRIVER ETC     EC120         1M       12.0   \n",
       "1      2  W.CAPE-BERGRIVER ETC     M4183         1X       18.3   \n",
       "2      3  W.CAPE-BERGRIVER ETC     EC120         1S       12.0   \n",
       "3      4  W.CAPE-BERGRIVER ETC     M4183         1M       18.3   \n",
       "4      5  W.CAPE-BERGRIVER ETC     M4183         1L       18.3   \n",
       "\n",
       "              Commodities        Date  Low_Price  High_Price  Sales_Total  \\\n",
       "0  APPLE GOLDEN DELICIOUS  2020-07-09      128.0       136.0       5008.0   \n",
       "1  APPLE GOLDEN DELICIOUS  2020-01-20      220.0       220.0       1760.0   \n",
       "2  APPLE GOLDEN DELICIOUS  2020-08-19      120.0       120.0        720.0   \n",
       "3  APPLE GOLDEN DELICIOUS  2020-05-06      160.0       160.0        160.0   \n",
       "4  APPLE GOLDEN DELICIOUS  2020-05-04      140.0       160.0      14140.0   \n",
       "\n",
       "   Total_Qty_Sold  Total_Kg_Sold  Stock_On_Hand  \n",
       "0              38          456.0              0  \n",
       "1               8          146.4              2  \n",
       "2               6           72.0             45  \n",
       "3               1           18.3              8  \n",
       "4             100         1830.0             19  "
      ],
      "text/html": "<div>\n<style scoped>\n    .dataframe tbody tr th:only-of-type {\n        vertical-align: middle;\n    }\n\n    .dataframe tbody tr th {\n        vertical-align: top;\n    }\n\n    .dataframe thead th {\n        text-align: right;\n    }\n</style>\n<table border=\"1\" class=\"dataframe\">\n  <thead>\n    <tr style=\"text-align: right;\">\n      <th></th>\n      <th>Index</th>\n      <th>Province</th>\n      <th>Container</th>\n      <th>Size_Grade</th>\n      <th>Weight_Kg</th>\n      <th>Commodities</th>\n      <th>Date</th>\n      <th>Low_Price</th>\n      <th>High_Price</th>\n      <th>Sales_Total</th>\n      <th>Total_Qty_Sold</th>\n      <th>Total_Kg_Sold</th>\n      <th>Stock_On_Hand</th>\n    </tr>\n  </thead>\n  <tbody>\n    <tr>\n      <th>0</th>\n      <td>1</td>\n      <td>W.CAPE-BERGRIVER ETC</td>\n      <td>EC120</td>\n      <td>1M</td>\n      <td>12.0</td>\n      <td>APPLE GOLDEN DELICIOUS</td>\n      <td>2020-07-09</td>\n      <td>128.0</td>\n      <td>136.0</td>\n      <td>5008.0</td>\n      <td>38</td>\n      <td>456.0</td>\n      <td>0</td>\n    </tr>\n    <tr>\n      <th>1</th>\n      <td>2</td>\n      <td>W.CAPE-BERGRIVER ETC</td>\n      <td>M4183</td>\n      <td>1X</td>\n      <td>18.3</td>\n      <td>APPLE GOLDEN DELICIOUS</td>\n      <td>2020-01-20</td>\n      <td>220.0</td>\n      <td>220.0</td>\n      <td>1760.0</td>\n      <td>8</td>\n      <td>146.4</td>\n      <td>2</td>\n    </tr>\n    <tr>\n      <th>2</th>\n      <td>3</td>\n      <td>W.CAPE-BERGRIVER ETC</td>\n      <td>EC120</td>\n      <td>1S</td>\n      <td>12.0</td>\n      <td>APPLE GOLDEN DELICIOUS</td>\n      <td>2020-08-19</td>\n      <td>120.0</td>\n      <td>120.0</td>\n      <td>720.0</td>\n      <td>6</td>\n      <td>72.0</td>\n      <td>45</td>\n    </tr>\n    <tr>\n      <th>3</th>\n      <td>4</td>\n      <td>W.CAPE-BERGRIVER ETC</td>\n      <td>M4183</td>\n      <td>1M</td>\n      <td>18.3</td>\n      <td>APPLE GOLDEN DELICIOUS</td>\n      <td>2020-05-06</td>\n      <td>160.0</td>\n      <td>160.0</td>\n      <td>160.0</td>\n      <td>1</td>\n      <td>18.3</td>\n      <td>8</td>\n    </tr>\n    <tr>\n      <th>4</th>\n      <td>5</td>\n      <td>W.CAPE-BERGRIVER ETC</td>\n      <td>M4183</td>\n      <td>1L</td>\n      <td>18.3</td>\n      <td>APPLE GOLDEN DELICIOUS</td>\n      <td>2020-05-04</td>\n      <td>140.0</td>\n      <td>160.0</td>\n      <td>14140.0</td>\n      <td>100</td>\n      <td>1830.0</td>\n      <td>19</td>\n    </tr>\n  </tbody>\n</table>\n</div>"
     },
     "metadata": {},
     "execution_count": 95
    }
   ],
   "source": [
    "#Viewing the first five rows of our test_set dataframe.\n",
    "test_set.head()"
   ]
  },
  {
   "cell_type": "code",
   "execution_count": 96,
   "metadata": {},
   "outputs": [
    {
     "output_type": "execute_result",
     "data": {
      "text/plain": [
       "(685, 13)"
      ]
     },
     "metadata": {},
     "execution_count": 96
    }
   ],
   "source": [
    "#The dataframe has 685 rows and 13 columns.\n",
    "test_set.shape"
   ]
  },
  {
   "cell_type": "code",
   "execution_count": 97,
   "metadata": {},
   "outputs": [
    {
     "output_type": "stream",
     "name": "stdout",
     "text": [
      "<class 'pandas.core.frame.DataFrame'>\nRangeIndex: 685 entries, 0 to 684\nData columns (total 13 columns):\n #   Column          Non-Null Count  Dtype  \n---  ------          --------------  -----  \n 0   Index           685 non-null    int64  \n 1   Province        685 non-null    object \n 2   Container       685 non-null    object \n 3   Size_Grade      685 non-null    object \n 4   Weight_Kg       685 non-null    float64\n 5   Commodities     685 non-null    object \n 6   Date            685 non-null    object \n 7   Low_Price       685 non-null    float64\n 8   High_Price      685 non-null    float64\n 9   Sales_Total     685 non-null    float64\n 10  Total_Qty_Sold  685 non-null    int64  \n 11  Total_Kg_Sold   685 non-null    float64\n 12  Stock_On_Hand   685 non-null    int64  \ndtypes: float64(5), int64(3), object(5)\nmemory usage: 69.7+ KB\n"
     ]
    }
   ],
   "source": [
    "#The info method displays the nature of our data i.e datatypes and non-null count.\n",
    "test_set.info() "
   ]
  },
  {
   "source": [
    "The info summary above shows 685 entries and it has the following data types: five float type data, three integer type data, five object type data. All columns showing zero null values."
   ],
   "cell_type": "markdown",
   "metadata": {}
  },
  {
   "cell_type": "code",
   "execution_count": 98,
   "metadata": {},
   "outputs": [
    {
     "output_type": "execute_result",
     "data": {
      "text/plain": [
       "            Index   Weight_Kg    Low_Price   High_Price    Sales_Total  \\\n",
       "count  685.000000  685.000000   685.000000   685.000000     685.000000   \n",
       "mean   343.000000   34.142482   164.202891   195.590073   18788.111212   \n",
       "std    197.886752   87.575995   355.167319   389.109476   33951.586813   \n",
       "min      1.000000    3.000000    10.000000    10.000000      10.000000   \n",
       "25%    172.000000    9.000000    50.000000    64.000000    1300.000000   \n",
       "50%    343.000000   12.000000    80.000000   112.000000    5520.000000   \n",
       "75%    514.000000   18.300000   128.000000   160.000000   21176.000000   \n",
       "max    685.000000  400.000000  2400.000000  2400.000000  308010.000000   \n",
       "\n",
       "       Total_Qty_Sold  Total_Kg_Sold  Stock_On_Hand  \n",
       "count      685.000000     685.000000     685.000000  \n",
       "mean       174.883212    2725.402336     439.245255  \n",
       "std        299.351142    5059.123311     715.985761  \n",
       "min          1.000000       6.300000       0.000000  \n",
       "25%         13.000000     204.000000      20.000000  \n",
       "50%         62.000000     860.100000     153.000000  \n",
       "75%        200.000000    3033.000000     516.000000  \n",
       "max       2774.000000   47200.000000    6827.000000  "
      ],
      "text/html": "<div>\n<style scoped>\n    .dataframe tbody tr th:only-of-type {\n        vertical-align: middle;\n    }\n\n    .dataframe tbody tr th {\n        vertical-align: top;\n    }\n\n    .dataframe thead th {\n        text-align: right;\n    }\n</style>\n<table border=\"1\" class=\"dataframe\">\n  <thead>\n    <tr style=\"text-align: right;\">\n      <th></th>\n      <th>Index</th>\n      <th>Weight_Kg</th>\n      <th>Low_Price</th>\n      <th>High_Price</th>\n      <th>Sales_Total</th>\n      <th>Total_Qty_Sold</th>\n      <th>Total_Kg_Sold</th>\n      <th>Stock_On_Hand</th>\n    </tr>\n  </thead>\n  <tbody>\n    <tr>\n      <th>count</th>\n      <td>685.000000</td>\n      <td>685.000000</td>\n      <td>685.000000</td>\n      <td>685.000000</td>\n      <td>685.000000</td>\n      <td>685.000000</td>\n      <td>685.000000</td>\n      <td>685.000000</td>\n    </tr>\n    <tr>\n      <th>mean</th>\n      <td>343.000000</td>\n      <td>34.142482</td>\n      <td>164.202891</td>\n      <td>195.590073</td>\n      <td>18788.111212</td>\n      <td>174.883212</td>\n      <td>2725.402336</td>\n      <td>439.245255</td>\n    </tr>\n    <tr>\n      <th>std</th>\n      <td>197.886752</td>\n      <td>87.575995</td>\n      <td>355.167319</td>\n      <td>389.109476</td>\n      <td>33951.586813</td>\n      <td>299.351142</td>\n      <td>5059.123311</td>\n      <td>715.985761</td>\n    </tr>\n    <tr>\n      <th>min</th>\n      <td>1.000000</td>\n      <td>3.000000</td>\n      <td>10.000000</td>\n      <td>10.000000</td>\n      <td>10.000000</td>\n      <td>1.000000</td>\n      <td>6.300000</td>\n      <td>0.000000</td>\n    </tr>\n    <tr>\n      <th>25%</th>\n      <td>172.000000</td>\n      <td>9.000000</td>\n      <td>50.000000</td>\n      <td>64.000000</td>\n      <td>1300.000000</td>\n      <td>13.000000</td>\n      <td>204.000000</td>\n      <td>20.000000</td>\n    </tr>\n    <tr>\n      <th>50%</th>\n      <td>343.000000</td>\n      <td>12.000000</td>\n      <td>80.000000</td>\n      <td>112.000000</td>\n      <td>5520.000000</td>\n      <td>62.000000</td>\n      <td>860.100000</td>\n      <td>153.000000</td>\n    </tr>\n    <tr>\n      <th>75%</th>\n      <td>514.000000</td>\n      <td>18.300000</td>\n      <td>128.000000</td>\n      <td>160.000000</td>\n      <td>21176.000000</td>\n      <td>200.000000</td>\n      <td>3033.000000</td>\n      <td>516.000000</td>\n    </tr>\n    <tr>\n      <th>max</th>\n      <td>685.000000</td>\n      <td>400.000000</td>\n      <td>2400.000000</td>\n      <td>2400.000000</td>\n      <td>308010.000000</td>\n      <td>2774.000000</td>\n      <td>47200.000000</td>\n      <td>6827.000000</td>\n    </tr>\n  </tbody>\n</table>\n</div>"
     },
     "metadata": {},
     "execution_count": 98
    }
   ],
   "source": [
    "#Summary statistic of each column in the dataframe.\n",
    "test_set.describe()"
   ]
  },
  {
   "source": [
    "After veiwing our data, we viewed the sample submission as well to confirm our response variable as the column to feed the submission file on Kaggle."
   ],
   "cell_type": "markdown",
   "metadata": {}
  },
  {
   "cell_type": "code",
   "execution_count": 99,
   "metadata": {},
   "outputs": [
    {
     "output_type": "execute_result",
     "data": {
      "text/plain": [
       "   Index  avg_price_per_kg\n",
       "0      1             13.94\n",
       "1      2              1.30"
      ],
      "text/html": "<div>\n<style scoped>\n    .dataframe tbody tr th:only-of-type {\n        vertical-align: middle;\n    }\n\n    .dataframe tbody tr th {\n        vertical-align: top;\n    }\n\n    .dataframe thead th {\n        text-align: right;\n    }\n</style>\n<table border=\"1\" class=\"dataframe\">\n  <thead>\n    <tr style=\"text-align: right;\">\n      <th></th>\n      <th>Index</th>\n      <th>avg_price_per_kg</th>\n    </tr>\n  </thead>\n  <tbody>\n    <tr>\n      <th>0</th>\n      <td>1</td>\n      <td>13.94</td>\n    </tr>\n    <tr>\n      <th>1</th>\n      <td>2</td>\n      <td>1.30</td>\n    </tr>\n  </tbody>\n</table>\n</div>"
     },
     "metadata": {},
     "execution_count": 99
    }
   ],
   "source": [
    "sample_submission.head()"
   ]
  },
  {
   "cell_type": "markdown",
   "metadata": {},
   "source": [
    "#### 2.4. Make an initial plot of the data"
   ]
  },
  {
   "cell_type": "markdown",
   "metadata": {},
   "source": [
    "## 3. Exploratory Data Analysis <a name=\"explore\"></a>\n",
    "### 3.1. Explore the data shape and types\n",
    "### Look for null values\n",
    "Give data descriptions\n",
    "### Is the data univariate or multivariate?\n",
    "### Determine kurtosis and skew\n",
    "### Consider the distribution of the data\n",
    "### Look for correlation of multivariate data \n",
    "## 4. Split the data between training data and testing data <a name=\"split\"></a>\n",
    "## Check for linearity, multicollinearity, independence, homoscedasticity, normality\n",
    "### Homoscedasticity\n",
    "Do the magnitude of the risiduals increase as the fitted data increases? This will result in a cone shape and that is called heteroscedasticity. We don’t want that.\n",
    "### Normality\n",
    "Draw a histogram of the normalized residuals and look for a bell curve around zero.\n",
    "Draw a QQ plot of the residuals\n",
    "## 5. Check for outliers in residuals <a name=\"outliers\"></a>\n",
    "### Plot Cook’s distance\n",
    "## 6. Build the Regression Model <a name=\"regress\"></a>\n",
    "Consider a treemodel\n",
    "### Results if we follow method 1: Taking Estimates\n",
    "#### Show our calculations\n",
    "#### Plot our results\n",
    "#### Assess our results\n",
    "### Results if we follow method 2: Least Squared Method\n",
    "#### Show our calculations\n",
    "#### Plot our results\n",
    "#### Assess our results\n",
    "### Results if we build our model using sklearn:\n",
    "#### Show our calculations\n",
    "#### Plot our results\n",
    "#### Assess our results\n"
   ]
  },
  {
   "cell_type": "markdown",
   "metadata": {},
   "source": [
    "## 7. Conclusion <a name=\"conclude\"></a>"
   ]
  },
  {
   "cell_type": "markdown",
   "metadata": {},
   "source": [
    "### What we accomplished. \n",
    "### What we learnt.\n"
   ]
  }
 ],
 "metadata": {
  "kernelspec": {
   "name": "python385jvsc74a57bd0fc6a030d5f737aabb1c5c23800926cf1cc2dc1834af272522765e2cf9624557c",
   "display_name": "Python 3.8.5 64-bit ('base': conda)"
  },
  "language_info": {
   "codemirror_mode": {
    "name": "ipython",
    "version": 3
   },
   "file_extension": ".py",
   "mimetype": "text/x-python",
   "name": "python",
   "nbconvert_exporter": "python",
   "pygments_lexer": "ipython3",
   "version": "3.8.5"
  }
 },
 "nbformat": 4,
 "nbformat_minor": 2
}