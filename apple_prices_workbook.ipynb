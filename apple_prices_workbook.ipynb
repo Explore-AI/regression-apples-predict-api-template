{
 "cells": [
  {
   "source": [
    "# Regression_AM5_DSFT"
   ],
   "cell_type": "markdown",
   "metadata": {}
  },
  {
   "cell_type": "code",
   "execution_count": null,
   "metadata": {},
   "outputs": [],
   "source": []
  }
 ],
 "metadata": {
  "kernelspec": {
   "name": "python391jvsc74a57bd02d2a68fc56f6c848f595dacce010cddf2b30c1f6edb6228c50cc4b067a205ee1",
   "display_name": "Python 3.9.1 64-bit"
  },
  "language_info": {
   "codemirror_mode": {
    "name": "ipython",
    "version": 3
   },
   "file_extension": ".py",
   "mimetype": "text/x-python",
   "name": "python",
   "nbconvert_exporter": "python",
   "pygments_lexer": "ipython3",
   "version": "3.9.1"
  },
  "metadata": {
   "interpreter": {
    "hash": "2d2a68fc56f6c848f595dacce010cddf2b30c1f6edb6228c50cc4b067a205ee1"
   }
  }
 },
 "nbformat": 4,
 "nbformat_minor": 5
}